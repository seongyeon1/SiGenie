{
 "cells": [
  {
   "cell_type": "code",
   "execution_count": 1,
   "metadata": {},
   "outputs": [
    {
     "data": {
      "text/plain": [
       "True"
      ]
     },
     "execution_count": 1,
     "metadata": {},
     "output_type": "execute_result"
    }
   ],
   "source": [
    "import os\n",
    "import json\n",
    "from bson import json_util\n",
    "from typing import List, Dict, TypedDict, Annotated, Sequence, Optional\n",
    "# from langchain_google_genai import ChatGoogleGenerativeAI\n",
    "from langchain_openai import ChatOpenAI\n",
    "from langchain.callbacks.streaming_stdout import StreamingStdOutCallbackHandler\n",
    "\n",
    "from pymongo import MongoClient\n",
    "from operator import add\n",
    "from langchain_core.messages import HumanMessage, AIMessage\n",
    "from langgraph.graph import StateGraph, START, END\n",
    "from langchain.prompts import PromptTemplate\n",
    "from langchain.schema import StrOutputParser\n",
    "\n",
    "from dotenv import load_dotenv\n",
    "\n",
    "load_dotenv()"
   ]
  },
  {
   "cell_type": "code",
   "execution_count": 3,
   "metadata": {},
   "outputs": [],
   "source": [
    "MONGO_URI = os.getenv(\"MONGODB_URI\")\n",
    "DB_NAME = os.getenv(\"MONGODB_DB_NAME\")\n",
    "collection_name = 'si'\n",
    "os.environ[\"LANGCHAIN_TRACING_V2\"] = \"true\"\n",
    "os.environ[\"LANGCHAIN_PROJECT\"] = \"containergenie.ai\"\n",
    "\n",
    "llm = ChatOpenAI(model='gpt-4o-mini',temperature=0.0)\n",
    "\n",
    "def fetch_data_from_mongodb(collection_name: str, query: Dict = None, limit: int = None) -> List[Dict]:\n",
    " \n",
    "    client = MongoClient(MONGO_URI)\n",
    "    db = client[DB_NAME]\n",
    "    collection = db[collection_name]\n",
    "    \n",
    "    # Prepare the find operation\n",
    "    find_operation = collection.find(query) if query else collection.find()\n",
    "    \n",
    "    # Fetch and return the data\n",
    "    data = list(find_operation)\n",
    "    \n",
    "    # Close the connection\n",
    "    client.close()\n",
    "    \n",
    "    return data"
   ]
  },
  {
   "cell_type": "code",
   "execution_count": 9,
   "metadata": {},
   "outputs": [],
   "source": [
    "booking_reference=\"CHERRY202409072244\""
   ]
  },
  {
   "cell_type": "code",
   "execution_count": 12,
   "metadata": {},
   "outputs": [],
   "source": [
    "si_data = fetch_data_from_mongodb(collection_name=collection_name, query={\"bookingReference\": booking_reference})"
   ]
  },
  {
   "cell_type": "code",
   "execution_count": 17,
   "metadata": {},
   "outputs": [
    {
     "data": {
      "text/plain": [
       "[{'_id': ObjectId('66e1562f0abd52a6a79a2ff6'),\n",
       "  'bookingReference': 'CHERRY202409072244',\n",
       "  'voyageDetails': {'vesselName': 'APL TEMASEK', 'voyageNumber': '2024581E'},\n",
       "  'routeDetails': {'placeOfReceipt': 'NINGBO',\n",
       "   'portOfLoading': 'NINGBO',\n",
       "   'portOfDischarge': 'YANTIAN',\n",
       "   'placeOfDelivery': 'YANTIAN'},\n",
       "  'paymentDetails': {'freightPaymentTerms': 'COLLECT',\n",
       "   'freightPayableAt': 'ROTTERDAM, NETHERLANDS'},\n",
       "  'documentationDetails': {'blType': 'NEGOTIABLE',\n",
       "   'numberOfOriginalBLs': 3,\n",
       "   'numberOfCopies': 0},\n",
       "  'partyDetails': {'shipper': {'name': 'SHIPPER 5029',\n",
       "    'address': 'NO. 188, SHANXI ROAD, NINGBO, CHINA',\n",
       "    'telephone': '+86 574 8765 4321',\n",
       "    'email': 'INFO@CHINAIMPORTEXPORT.COM'},\n",
       "   'consignee': {'name': 'EUROTECH TRADING BV',\n",
       "    'address': 'WATERLOO PLAZA, 121-123 WATERLOOPLEIN, 1011 PG AMSTERDAM, NETHERLANDS',\n",
       "    'taxId': 'NL856321452B01',\n",
       "    'president': 'MR. JAN VAN DER WIEL',\n",
       "    'telephone': '+31 20 624 3500',\n",
       "    'fax': '+31 20 624 3501'},\n",
       "   'notifyParty': {'name': 'EUROTECH TRADING BV',\n",
       "    'address': 'WATERLOO PLAZA, 121-123 WATERLOOPLEIN, 1011 PG AMSTERDAM, NETHERLANDS',\n",
       "    'taxId': 'NL856321452B01',\n",
       "    'president': 'MR. JAN VAN DER WIEL',\n",
       "    'telephone': '+31 20 624 3500',\n",
       "    'fax': '+31 20 624 3501'}},\n",
       "  'shippingTerm': 'CIF',\n",
       "  'hsCode': '8541400000',\n",
       "  'commodityDescription': 'POWER TRANSFORMERS',\n",
       "  'containers': [{'containerNumber': 'TCLU9876543',\n",
       "    'sealNumber': '123456',\n",
       "    'marksAndNumbers': 'AS PER ATTACHED RIDER',\n",
       "    'numberOfPackages': 2,\n",
       "    'packageType': 'CRATES',\n",
       "    'cargoDescription': \"SHIPPER'S LOAD, COUNT & WEIGHT, SOTW & SEAL SAID TO CONTAIN: CIF, ROTTERDAM, NETHERLANDS POWER TRANSFORMERS\",\n",
       "    'grossWeight': 15000.0,\n",
       "    'measurement': 30.0},\n",
       "   {'containerNumber': 'TCLU7654321',\n",
       "    'sealNumber': '654321',\n",
       "    'marksAndNumbers': 'AS PER ATTACHED RIDER',\n",
       "    'numberOfPackages': 2,\n",
       "    'packageType': 'CRATES',\n",
       "    'cargoDescription': \"SHIPPER'S LOAD, COUNT & WEIGHT, SOTW & SEAL SAID TO CONTAIN: CIF, ROTTERDAM, NETHERLANDS POWER TRANSFORMERS\",\n",
       "    'grossWeight': 15000.0,\n",
       "    'measurement': 30.0}],\n",
       "  'totalShipment': {'totalContainers': 'TWO (20 O/T X2) CONTAINERS ONLY',\n",
       "   'totalPackages': 4,\n",
       "   'packageType': 'CRATES',\n",
       "   'containerType': '20 O/TX2',\n",
       "   'totalGrossWeight': 30000.0,\n",
       "   'totalMeasurement': 60.0},\n",
       "  'outOfGaugeDimensions': {'length': 'In-Gauge',\n",
       "   'width': 'In-Gauge',\n",
       "   'height': 'In-Gauge',\n",
       "   'additionalInfo': 'In-gauge in O/T Container'},\n",
       "  'additionalInformation': {'lcDetails': {'lcNumber': '0123456789'},\n",
       "   'certificateDetails': '1234567890',\n",
       "   'originalBLDistribution': {'name': 'BANK OF CHINA NINGBO BRANCH',\n",
       "    'address': 'NO. 123 HAIYAN ROAD, NINGBO, CHINA',\n",
       "    'telephone': '+86 574 8666 7890',\n",
       "    'fax': '+86 574 8666 7891'},\n",
       "   'originalInvoiceDistribution': {'name': 'BANK OF CHINA NINGBO BRANCH',\n",
       "    'address': 'NO. 123 HAIYAN ROAD, NINGBO, CHINA',\n",
       "    'telephone': '+86 574 8666 7890',\n",
       "    'fax': '+86 574 8666 7891'},\n",
       "   'onboardDate': '2024-09-14 21:26',\n",
       "   'additionalRemarks': 'No special instructions'}}]"
      ]
     },
     "execution_count": 17,
     "metadata": {},
     "output_type": "execute_result"
    }
   ],
   "source": [
    "si_data"
   ]
  },
  {
   "cell_type": "code",
   "execution_count": 26,
   "metadata": {},
   "outputs": [
    {
     "name": "stdout",
     "output_type": "stream",
     "text": [
      "Loading existing vector store from 'faiss_index'.\n"
     ]
    }
   ],
   "source": [
    "import asyncio\n",
    "from verify_policy import RAGModel\n",
    "\n",
    "def main():\n",
    "    # Language model과 프롬프트 템플릿 설정\n",
    "    template = \"Given the following SI data: {si_data}, provide relevant document updates.\"\n",
    "    llm = ChatOpenAI(temperature=0, \n",
    "                    model_name=\"gpt-4o-mini\",\n",
    "                    streaming=True,              \n",
    "                    callbacks=[StreamingStdOutCallbackHandler()]\n",
    "                    )\n",
    "    \n",
    "    # RAG 모델 초기화\n",
    "    rag_model = RAGModel(llm, ['./si_validation_story/resources/docs/cherry_compliance.pdf'], template)\n",
    "    \n",
    "    # SI 데이터를 입력하여 응답 생성\n",
    "    response = rag_model.invoke(si_data)\n",
    "    return response\n",
    "\n",
    "# 실행\n",
    "res = main()"
   ]
  },
  {
   "cell_type": "code",
   "execution_count": 27,
   "metadata": {},
   "outputs": [
    {
     "data": {
      "text/plain": [
       "<coroutine object RAGModel.invoke at 0x11fc6bc40>"
      ]
     },
     "execution_count": 27,
     "metadata": {},
     "output_type": "execute_result"
    }
   ],
   "source": [
    "res"
   ]
  },
  {
   "cell_type": "code",
   "execution_count": 20,
   "metadata": {},
   "outputs": [
    {
     "name": "stdout",
     "output_type": "stream",
     "text": [
      "Performing web search for query: AI technologies in healthcare\n",
      "Failed to fetch results from Tavily. Status: 405\n",
      "Search results for 'AI technologies in healthcare':\n"
     ]
    }
   ],
   "source": [
    "import asyncio\n",
    "import aiohttp\n",
    "from web_search import WebSearch  # WebSearch 모듈이 같은 디렉토리에 있어야 합니다\n",
    "\n",
    "async def main():\n",
    "    async with aiohttp.ClientSession() as session:\n",
    "        # WebSearch 클래스 인스턴스 생성\n",
    "        web_search = WebSearch(session)\n",
    "        \n",
    "        # 포함할 URL과 제외할 URL 설정 (옵션)\n",
    "        web_search.set_include_urls(['google.com'])\n",
    "        web_search.set_exclude_urls(['exclude.com'])\n",
    "        \n",
    "        # 검색 수행\n",
    "        query = \"AI technologies in healthcare\"\n",
    "        results = await web_search.search(query)\n",
    "        \n",
    "        print(f\"Search results for '{query}':\")\n",
    "        for result in results:\n",
    "            print(result)\n",
    "\n",
    "# Jupyter Notebook에서 비동기 함수 실행\n",
    "await main()"
   ]
  }
 ],
 "metadata": {
  "kernelspec": {
   "display_name": "MLOps",
   "language": "python",
   "name": "python3"
  },
  "language_info": {
   "codemirror_mode": {
    "name": "ipython",
    "version": 3
   },
   "file_extension": ".py",
   "mimetype": "text/x-python",
   "name": "python",
   "nbconvert_exporter": "python",
   "pygments_lexer": "ipython3",
   "version": "3.12.5"
  }
 },
 "nbformat": 4,
 "nbformat_minor": 2
}
