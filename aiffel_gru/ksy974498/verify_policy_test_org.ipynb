{
 "cells": [
  {
   "cell_type": "code",
   "execution_count": 2,
   "id": "59fc370a",
   "metadata": {},
   "outputs": [],
   "source": [
    "import os\n",
    "from pymongo import MongoClient\n",
    "from typing import List, Dict\n",
    "\n",
    "MONGO_URI = os.getenv(\"MONGODB_URI\")\n",
    "DB_NAME = os.getenv(\"MONGODB_DB_NAME\")\n",
    "collection_name = 'si'\n",
    "os.environ[\"LANGCHAIN_TRACING_V2\"] = \"true\"\n",
    "os.environ[\"LANGCHAIN_PROJECT\"] = \"containergenie.ai\"\n",
    "os.environ['USER_AGENT'] = 'chapter2-1'\n",
    "\n",
    "####################################################################################\n",
    "\n",
    "from langchain_community.tools.tavily_search import TavilySearchResults\n",
    "from langchain_text_splitters import RecursiveCharacterTextSplitter\n",
    "from langchain_community.document_loaders import PyPDFLoader\n",
    "from langchain_community.vectorstores import FAISS\n",
    "from langchain_core.prompts import PromptTemplate\n",
    "from langchain_openai import ChatOpenAI, OpenAIEmbeddings\n",
    "from langchain.tools.retriever import create_retriever_tool\n",
    "from langchain.agents import create_openai_functions_agent, AgentExecutor\n",
    "\n",
    "from langchain_community.document_loaders import PyMuPDFLoader\n",
    "from langchain_community.vectorstores import FAISS\n",
    "from langchain_core.output_parsers import StrOutputParser\n",
    "from langchain_core.runnables import RunnablePassthrough\n",
    "from langchain_core.prompts import PromptTemplate\n",
    "from langchain_openai import ChatOpenAI, OpenAIEmbeddings\n",
    "\n",
    "###################################################################################\n",
    "\n",
    "# block included to check whether the whole chain works out or not\n",
    "def fetch_data_from_mongodb(collection_name: str, query: Dict = None, limit: int = None) -> List[Dict]:\n",
    " \n",
    "    client = MongoClient(MONGO_URI)\n",
    "    db = client[DB_NAME]\n",
    "    collection = db[collection_name]\n",
    "    \n",
    "    # Prepare the find operation\n",
    "    find_operation = collection.find(query) if query else collection.find()\n",
    "    \n",
    "    # Fetch and return the data\n",
    "    data = list(find_operation)\n",
    "    \n",
    "    # Close the connection\n",
    "    client.close()\n",
    "    \n",
    "    return data"
   ]
  },
  {
   "cell_type": "code",
   "execution_count": 3,
   "id": "1907c14b",
   "metadata": {},
   "outputs": [
    {
     "data": {
      "text/plain": [
       "True"
      ]
     },
     "execution_count": 3,
     "metadata": {},
     "output_type": "execute_result"
    }
   ],
   "source": [
    "# API KEY를 환경변수로 관리하기 위한 설정 파일\n",
    "from dotenv import load_dotenv\n",
    "\n",
    "# API KEY 정보로드\n",
    "load_dotenv()"
   ]
  },
  {
   "cell_type": "code",
   "execution_count": 4,
   "id": "ea1a1c8e",
   "metadata": {},
   "outputs": [],
   "source": [
    "\n",
    "## look for relevant parts in pdfs\n",
    "\n",
    "PDF_loader = PyPDFLoader(\"./si_validation_story/resources/docs/cherry_comliance.pdf\")\n"
   ]
  },
  {
   "cell_type": "code",
   "execution_count": 5,
   "id": "5180451c",
   "metadata": {},
   "outputs": [],
   "source": [
    "FILE_PATH = \"./si_validation_story/resources/docs/cherry_comliance.pdf\""
   ]
  },
  {
   "cell_type": "code",
   "execution_count": 6,
   "id": "a1978423",
   "metadata": {},
   "outputs": [],
   "source": [
    "def show_metadata(docs):\n",
    "    if docs:\n",
    "        print(\"[metadata]\")\n",
    "        print(list(docs[0].metadata.keys()))\n",
    "        print(\"\\n[examples]\")\n",
    "        max_key_length = max(len(k) for k in docs[0].metadata.keys())\n",
    "        for k, v in docs[0].metadata.items():\n",
    "            print(f\"{k:<{max_key_length}} : {v}\")"
   ]
  },
  {
   "cell_type": "markdown",
   "id": "9c404e7d",
   "metadata": {},
   "source": [
    "## PyPDF\n",
    "\n",
    "여기에서는 `pypdf`를 사용하여 PDF를 문서 배열로 로드하며, 각 문서는 `page` 번호와 함께 페이지 내용 및 메타데이터를 포함합니다."
   ]
  },
  {
   "cell_type": "code",
   "execution_count": 7,
   "id": "c9673857",
   "metadata": {},
   "outputs": [],
   "source": [
    "# 설치\n",
    "!pip install -qU pypdf"
   ]
  },
  {
   "cell_type": "code",
   "execution_count": 8,
   "id": "aa20caf2",
   "metadata": {},
   "outputs": [
    {
     "name": "stdout",
     "output_type": "stream",
     "text": [
      "• Currency must be specified (preferably in USD or AED)  \n",
      "• Indicate whether charges are prepaid or collect  \n",
      "• For \"Freight Collect\" shipments, obtain prior approval from CHERRY's UAE \n",
      "office  \n",
      "2. Operational Requirements  \n",
      "2.1 Payment Terms  \n",
      "• Freight collect shipments:  \n",
      "o Require prior approval\n"
     ]
    }
   ],
   "source": [
    "from langchain_community.document_loaders import PyPDFLoader\n",
    "\n",
    "# 파일 경로 설정\n",
    "loader = PyPDFLoader(FILE_PATH)\n",
    "\n",
    "# PDF 로더 초기화\n",
    "docs = loader.load()\n",
    "\n",
    "# 문서의 내용 출력\n",
    "print(docs[10].page_content[:300])"
   ]
  },
  {
   "cell_type": "code",
   "execution_count": 9,
   "id": "453f2103",
   "metadata": {},
   "outputs": [
    {
     "name": "stdout",
     "output_type": "stream",
     "text": [
      "[metadata]\n",
      "['source', 'page']\n",
      "\n",
      "[examples]\n",
      "source : ./si_validation_story/resources/docs/cherry_comliance.pdf\n",
      "page   : 0\n"
     ]
    }
   ],
   "source": [
    "# 메타데이터 출력\n",
    "show_metadata(docs)"
   ]
  },
  {
   "cell_type": "markdown",
   "id": "96845496",
   "metadata": {},
   "source": [
    "### PyPDF(OCR)"
   ]
  },
  {
   "cell_type": "markdown",
   "id": "c39e3c86",
   "metadata": {},
   "source": [
    "일부 PDF에는 스캔된 문서나 그림 내에 텍스트 이미지가 포함되어 있습니다. `rapidocr-onnxruntime` 패키지를 사용하여 이미지에서 텍스트를 추출할 수도 있습니다."
   ]
  },
  {
   "cell_type": "code",
   "execution_count": 10,
   "id": "009b9e3e",
   "metadata": {},
   "outputs": [],
   "source": [
    "# 설치\n",
    "!pip install -qU rapidocr-onnxruntime"
   ]
  },
  {
   "cell_type": "code",
   "execution_count": 11,
   "id": "b5334000",
   "metadata": {},
   "outputs": [
    {
     "name": "stdout",
     "output_type": "stream",
     "text": [
      "• Currency must be specified (preferably in USD or AED)  \n",
      "• Indicate whether charges are prepaid or collect  \n",
      "• For \"Freight Collect\" shipments, obtain prior approval from CHERRY's UAE \n",
      "office  \n",
      "2. Operational Requirements  \n",
      "2.1 Payment Terms  \n",
      "• Freight collect shipments:  \n",
      "o Require prior approval\n"
     ]
    }
   ],
   "source": [
    "# PDF 로더 초기화, 이미지 추출 옵션 활성화\n",
    "loader = PyPDFLoader(FILE_PATH, extract_images=False)\n",
    "\n",
    "# PDF 페이지 로드\n",
    "docs = loader.load()\n",
    "\n",
    "# 페이지 내용 접근\n",
    "print(docs[10].page_content[:300])"
   ]
  },
  {
   "cell_type": "code",
   "execution_count": 12,
   "id": "0fe6caa9",
   "metadata": {},
   "outputs": [
    {
     "name": "stdout",
     "output_type": "stream",
     "text": [
      "[metadata]\n",
      "['source', 'page']\n",
      "\n",
      "[examples]\n",
      "source : ./si_validation_story/resources/docs/cherry_comliance.pdf\n",
      "page   : 0\n"
     ]
    }
   ],
   "source": [
    "show_metadata(docs)"
   ]
  },
  {
   "cell_type": "markdown",
   "id": "7a191d5c",
   "metadata": {},
   "source": [
    "## PyMuPDF"
   ]
  },
  {
   "cell_type": "markdown",
   "id": "ea88bca1",
   "metadata": {},
   "source": [
    "**PyMuPDF** 는 속도 최적화가 되어 있으며, PDF 및 해당 페이지에 대한 자세한 메타데이터를 포함하고 있습니다. 페이지 당 하나의 문서를 반환합니다:"
   ]
  },
  {
   "cell_type": "code",
   "execution_count": 13,
   "id": "4ac56d57",
   "metadata": {},
   "outputs": [],
   "source": [
    "# 설치\n",
    "!pip install -qU pymupdf"
   ]
  },
  {
   "cell_type": "code",
   "execution_count": 14,
   "id": "47e7a947",
   "metadata": {},
   "outputs": [
    {
     "name": "stdout",
     "output_type": "stream",
     "text": [
      "• \n",
      "Currency must be specified (preferably in USD or AED) \n",
      "• \n",
      "Indicate whether charges are prepaid or collect \n",
      "• \n",
      "For \"Freight Collect\" shipments, obtain prior approval from CHERRY's UAE \n",
      "office \n",
      "2. Operational Requirements \n",
      "2.1 Payment Terms \n",
      "• \n",
      "Freight collect shipments:  \n",
      "o Require prior approval \n"
     ]
    }
   ],
   "source": [
    "from langchain_community.document_loaders import PyMuPDFLoader\n",
    "\n",
    "# PyMuPDF 로더 인스턴스 생성\n",
    "loader = PyMuPDFLoader(FILE_PATH)\n",
    "\n",
    "# 문서 로드\n",
    "docs = loader.load()\n",
    "\n",
    "# 문서의 내용 출력\n",
    "print(docs[10].page_content[:300])"
   ]
  },
  {
   "cell_type": "code",
   "execution_count": 15,
   "id": "bbca8760",
   "metadata": {},
   "outputs": [
    {
     "name": "stdout",
     "output_type": "stream",
     "text": [
      "[metadata]\n",
      "['source', 'file_path', 'page', 'total_pages', 'format', 'title', 'author', 'subject', 'keywords', 'creator', 'producer', 'creationDate', 'modDate', 'trapped']\n",
      "\n",
      "[examples]\n",
      "source       : ./si_validation_story/resources/docs/cherry_comliance.pdf\n",
      "file_path    : ./si_validation_story/resources/docs/cherry_comliance.pdf\n",
      "page         : 0\n",
      "total_pages  : 379\n",
      "format       : PDF 1.7\n",
      "title        : \n",
      "author       : 윤경종(KJ Yoon)\n",
      "subject      : \n",
      "keywords     : \n",
      "creator      : Microsoft Word\n",
      "producer     : \n",
      "creationDate : D:20241003222425+00'00'\n",
      "modDate      : D:20241003222425+00'00'\n",
      "trapped      : \n"
     ]
    }
   ],
   "source": [
    "show_metadata(docs)"
   ]
  },
  {
   "cell_type": "code",
   "execution_count": 16,
   "id": "11d6c858",
   "metadata": {},
   "outputs": [],
   "source": [
    "# !pip install langchain-ai21"
   ]
  },
  {
   "cell_type": "code",
   "execution_count": 17,
   "id": "9416fa1b",
   "metadata": {},
   "outputs": [],
   "source": [
    "import os\n",
    "\n",
    "os.environ[\"AI21_API_KEY\"] = 'RNDF2u7swmF81gXDMlvmKoR665WiRGoR'"
   ]
  },
  {
   "cell_type": "code",
   "execution_count": 65,
   "id": "07ee3c22",
   "metadata": {},
   "outputs": [],
   "source": [
    "DATA = [doc.page_content for doc in docs]"
   ]
  },
  {
   "cell_type": "code",
   "execution_count": 18,
   "id": "70787e71",
   "metadata": {},
   "outputs": [
    {
     "ename": "NameError",
     "evalue": "name 'DATA' is not defined",
     "output_type": "error",
     "traceback": [
      "\u001b[0;31m---------------------------------------------------------------------------\u001b[0m",
      "\u001b[0;31mNameError\u001b[0m                                 Traceback (most recent call last)",
      "Cell \u001b[0;32mIn[18], line 1\u001b[0m\n\u001b[0;32m----> 1\u001b[0m \u001b[43mDATA\u001b[49m\n",
      "\u001b[0;31mNameError\u001b[0m: name 'DATA' is not defined"
     ]
    }
   ],
   "source": [
    "DATA"
   ]
  },
  {
   "cell_type": "markdown",
   "id": "70585d98",
   "metadata": {},
   "source": []
  },
  {
   "cell_type": "code",
   "execution_count": 19,
   "id": "6fc0d4da",
   "metadata": {},
   "outputs": [],
   "source": [
    "# from langchain_ai21 import AI21SemanticTextSplitter\n",
    "\n",
    "# # TEXT = DATA\n",
    "\n",
    "# semantic_text_splitter = AI21SemanticTextSplitter()\n",
    "# texts = DATA\n",
    "# documents = semantic_text_splitter.create_documents(\n",
    "#     texts=texts\n",
    "# )\n",
    "\n",
    "# print(f\"The text has been split into {len(documents)} Documents.\")\n",
    "# for doc in documents:\n",
    "#     print(f\"metadata: {doc.metadata}\")\n",
    "#     print(f\"text: {doc.page_content}\")\n",
    "#     print(\"====\")"
   ]
  },
  {
   "cell_type": "code",
   "execution_count": 20,
   "id": "2a95a149",
   "metadata": {},
   "outputs": [],
   "source": [
    "# 단계 3: 임베딩(Embedding) 생성\n",
    "# embeddings = OpenAIEmbeddings()"
   ]
  },
  {
   "cell_type": "code",
   "execution_count": 21,
   "id": "17693cd0",
   "metadata": {},
   "outputs": [],
   "source": [
    "# 단계 4: DB 생성(Create DB) 및 저장\n",
    "# 벡터스토어를 생성합니다.\n",
    "# vectorstore = FAISS.from_documents(documents=documents, embedding=embeddings)"
   ]
  },
  {
   "cell_type": "code",
   "execution_count": 22,
   "id": "626d38fd",
   "metadata": {},
   "outputs": [],
   "source": [
    "# vectorstore.save_local(\"faiss_index_semantic\")"
   ]
  },
  {
   "cell_type": "code",
   "execution_count": 24,
   "id": "8ee3881b",
   "metadata": {},
   "outputs": [],
   "source": [
    "vectorstore = FAISS.load_local(\"faiss_index_semantic\", OpenAIEmbeddings(), allow_dangerous_deserialization=True)"
   ]
  },
  {
   "cell_type": "code",
   "execution_count": 25,
   "id": "d62caad8",
   "metadata": {},
   "outputs": [
    {
     "name": "stdout",
     "output_type": "stream",
     "text": [
      "The Consignee or Notify or payer collect must sign a confirmation of taking over costs \n",
      "for all additional costs incurred and the match code must have an AR-Account with credit \n",
      "for collect shipments\n",
      "CHERRY reserves the right to refuse such shipments without proper arrangements.\n",
      "The Consignee or Notify or payer collect must sign a confirmation of taking over costs \n",
      "for all additional costs incurred and the match code must have an AR-Account with credit \n",
      "for collect shipments\n",
      "3.2 Dangerous Goods\n",
      "• Acceptance subject to IMDG regulations and CHERRY's internal policies\n",
      "• Advance booking and approval required\n",
      "• Proper documentation and labeling mandatory\n",
      "3.3 Temperature-Controlled Cargo\n",
      "• Temperature settings must be clearly specified on booking and B/L\n",
      "• Special requirements may apply for certain commodities\n",
      "3.4 Out of Gauge (OOG) Cargo\n",
      "• Subject to special approval and may incur additional charges\n",
      "• Detailed dimensions and weight distribution must be provided at time of booking\n",
      "4. Customs and Regulatory Compliance\n",
      "• Must be the actual Shipper with complete name, full address, and contact details\n",
      "1.3 Consignee Details\n",
      "• Full contact details & address of the party\n",
      "• Party should be in Tanzania\n",
      "1.4 Notify Party Details\n",
      "• Full contact details & address of the party\n",
      "• Party should be in Tanzania\n",
      "• \"SAME AS CONSIGNEE\" is acceptable\n",
      "• For \"To Order of the Bank\", full name, address, country name and contact details are \n",
      "required\n",
      "1.5 Cargo Description\n",
      "• Detailed and accurate description of goods is mandatory\n",
      "• Generic terms like \"Consolidated Cargo\" or \"Said to Contain\" are not accepted\n",
      "• Must include: \n",
      "o Precise commodity description\n",
      "o Number of packages\n",
      "o Type of packages (e.g., pallets, cartons, drums)\n",
      "1.3 Consignee Details\n",
      "• Full name and complete address required\n",
      "• Contact information: o Phone number with country and area code (mandatory)\n",
      "o Email address (mandatory)\n",
      "• P.O. Box is not accepted alone; physical address required\n",
      "• For \"To Order\" B/Ls: \n",
      "o Consignee field should state \"TO ORDER OF [Bank Name]\"\n",
      "o Notify party must be the actual consignee\n",
      "• For Mexican consignees: RFC (Tax ID) number required\n",
      "1.4 Notify Party Details\n",
      "• Full name and complete address required\n",
      "• Contact information: \n",
      "o Phone number with country and area code (mandatory)\n",
      "o Email address (mandatory)\n",
      "• P.O. Box is not accepted alone; physical address required\n",
      "• For \"To Order\" B/Ls, notify party must be the actual consignee\n",
      "• For Mexican notify parties: RFC (Tax ID) number required\n",
      "1.5 Cargo Description\n",
      "• Detailed and accurate description of goods is mandatory\n",
      "• Vague descriptions are not acceptable\n",
      "• Must include: \n",
      "o Precise and accurate commodity description\n",
      "o Number of packages\n",
      "o Type of packages (e.g., pallets, cartons, drums) • Prohibited terms: \n",
      "o \"Said to Contain\"\n",
      "o \"Freight of All Kinds (FAK)\"\n",
      "o General terms like \"Consolidated Cargo\" or \"General Merchandise\"\n"
     ]
    }
   ],
   "source": [
    "for doc in vectorstore.similarity_search(\"consignee\"):\n",
    "    print(doc.page_content)"
   ]
  },
  {
   "cell_type": "code",
   "execution_count": 26,
   "id": "57c01eaa",
   "metadata": {},
   "outputs": [],
   "source": [
    "# 단계 5: 검색기(Retriever) 생성\n",
    "# 문서에 포함되어 있는 정보를 검색하고 생성합니다.\n",
    "retriever = vectorstore.as_retriever()"
   ]
  },
  {
   "cell_type": "code",
   "execution_count": 27,
   "id": "fad83a7b",
   "metadata": {},
   "outputs": [
    {
     "data": {
      "text/plain": [
       "[Document(metadata={'source_type': 'normal_text'}, page_content='• Contact information: \\r\\no Phone number (mandatory)\\r\\no Email address (mandatory)\\r\\n• Business Registration Number required for Korea-based shippers\\r\\n1.3 Consignee Details\\r\\n• Full name and complete address required\\r\\n• Contact information: \\r\\no Phone number (mandatory)\\r\\no Email address (mandatory)\\r\\n• Business Registration Number required for Korea-based consignees\\r\\n• It is required to have an address in Korea either for Consignee or Notify Party\\r\\n1.4 Notify Party Details\\r\\n• Full name and complete address required\\r\\n• Contact information: \\r\\no Phone number (mandatory)\\r\\no Email address (mandatory)\\r\\n• Telephone and Fax Numbers must be included\\r\\n1.5 Cargo Description\\r\\n• Detailed and accurate description of goods is mandatory\\r\\n• Generic terms like \"Consolidated Cargo\" or \"Said to Contain\" are not accepted\\r\\n• Must include: \\r\\no Precise commodity description\\r\\no Number of packages\\r\\no Type of packages (e.g., pallets, cartons, drums)\\r\\n1.6 Harmonized System (HS) Codes\\r\\n• 6-digit HS codes are required for all shipments\\r\\n• Must match the cargo description\\r\\n1.7 Packaging Details\\r\\n• Both outer and inner packaging details must be provided\\n'),\n",
       " Document(metadata={'source_type': 'normal_text'}, page_content='o Phone number (mandatory)\\r\\no Email address (mandatory)\\r\\n• Tax code required for Vietnam-based consignees\\r\\n• For personal imports, full name and ID number or passport number required\\r\\n1.4 Notify Party Details\\r\\n• Full name and complete address required\\r\\n• Contact information: o Phone number (mandatory)\\r\\no Email address (mandatory)\\r\\n1.5 Cargo Description\\r\\n• Detailed and accurate description of goods is mandatory in Vietnamese and English\\r\\n• Generic terms like \"Consolidated Cargo\" or \"Said to Contain\" are not accepted\\r\\n• Must include: \\r\\no Precise commodity description\\r\\no Number of packages\\r\\no Type of packages (e.g., pallets, cartons, drums)'),\n",
       " Document(metadata={'source_type': 'normal_text'}, page_content='• Full name and complete address required\\r\\n• Contact information: \\r\\no Phone number (mandatory)\\r\\no Email address (mandatory)\\r\\n• Business Registration Number required for Malaysia-based shippers\\r\\n1.3 Consignee Details\\r\\n• Full name and complete address required\\r\\n• Contact information: \\r\\no Phone number (mandatory)\\r\\no Email address (mandatory)\\r\\n• Business Registration Number required for Malaysia-based consignees\\r\\n• For personal imports, full name and MyKad number or passport number required\\r\\n1.4 Notify Party Details\\r\\n• Full name and complete address required\\r\\n• Contact information: \\r\\no Phone number (mandatory)\\r\\no Email address (mandatory)\\r\\n1.5 Cargo Description\\r\\n• Detailed and accurate description of goods is mandatory in English\\r\\n• Generic terms like \"Consolidated Cargo\" or \"Said to Contain\" are not accepted\\r\\n• Must include: \\r\\no Precise commodity description\\r\\no Number of packages\\r\\no Type of packages (e.g., pallets, cartons, drums)\\r\\n1.6 Harmonized System (HS) Codes\\r\\n• 10-digit HS codes are required for all shipments as per Malaysia Customs\\r\\n1.7 Packaging Details\\r\\n• Both outer and inner packaging details must be provided\\r\\n• Include: \\n'),\n",
       " Document(metadata={'source_type': 'normal_text'}, page_content='• Contact information: \\r\\no Phone number (mandatory)\\r\\no Email address (mandatory)\\r\\n• CNPJ (Cadastro Nacional da Pessoa Jurídica) required for Brazil-based shippers\\r\\n1.3 Consignee Details\\r\\n• Full name and complete address required\\r\\n• Contact information: \\r\\no Phone number (mandatory)\\r\\no Email address (mandatory)\\r\\n• CNPJ for companies or CPF (Cadastro de Pessoas Físicas) for individuals required\\r\\n• For personal imports, full name and CPF or passport number required\\r\\n• Only \"to order\" consignees are free from including CNPJ/CPF\\r\\n1.4 Notify Party Details\\r\\n• Full name and complete address required\\r\\n• Contact information: \\r\\no Phone number (mandatory)\\r\\no Email address (mandatory)\\r\\n• CNPJ number is mandatory even for TO ORDER B/L\\r\\n• P.O. Box is NOT acceptable\\r\\n1.5 Cargo Description\\r\\n• Detailed and accurate description of goods is mandatory in Portuguese\\r\\n• Generic terms like \"Consolidated Cargo\" or \"Said to Contain\" are not accepted\\r\\n• Must include: \\r\\no Precise commodity description\\r\\no Number of packages\\r\\no Type of packages (e.g., pallets, cartons, drums)\\r\\n• For food products, specific details including ingredients must be provided\\r\\n1.6 NCM Codes\\r\\n• 8-digit NCM (Nomenclatura Comum do Mercosul) codes are required for all \\r\\nshipments')]"
      ]
     },
     "execution_count": 27,
     "metadata": {},
     "output_type": "execute_result"
    }
   ],
   "source": [
    "# 검색기에 쿼리를 날려 검색된 chunk 결과를 확인합니다.\n",
    "retriever.invoke(\"중국 consignee의 필수정보는 무엇인가?\")"
   ]
  },
  {
   "cell_type": "code",
   "execution_count": 28,
   "id": "cc66b456",
   "metadata": {},
   "outputs": [
    {
     "data": {
      "text/plain": [
       "[Document(metadata={'source_type': 'normal_text'}, page_content='10. Key Contacts\\r\\n• Federal Customs Service of Russia: www.customs.gov.ru\\r\\n• Ministry of Transport of the Russian Federation: www.mintrans.gov.ru\\r\\n• Russian Maritime Register of Shipping: www.rs-class.org\\r\\n• Federal Service for Veterinary and Phytosanitary Surveillance: www.fsvps.gov.ru\\r\\n• Russian Union of Industrialists and Entrepreneurs: www.rspp.ru\\r\\n\\uf0d1 CHERRY Shipping Line: Turkey - Requirements and Restrictions\\r\\n1. Documentation Requirements\\r\\n1.1 Bill of Lading (B/L) Types\\r\\n• Original Bill of Lading (OBL)\\r\\n• Sea Waybill (SWB)\\r\\n• Electronic Bill of Lading (e-B/L) available upon request\\r\\n1.2 Shipper Details\\r\\n• Full name and complete address required\\r\\n• Contact information: \\r\\no Phone number (mandatory)\\r\\no Email address (mandatory)\\r\\n• Tax Identification Number (VKN) for Turkey-based shippers\\r\\n1.3 Consignee Details\\r\\n• Full name and complete address required\\r\\n• Contact information: \\r\\no Phone number (mandatory)\\r\\no Email address (mandatory)\\r\\n• Tax Identification Number (VKN) for Turkey-based consignees\\r\\n• For personal imports, full name and Turkish ID number (T.C. Kimlik No) required\\r\\n1.4 Notify Party Details\\r\\n• Full name and complete address required\\n'),\n",
       " Document(metadata={'source_type': 'normal_text'}, page_content='• Advance booking and approval required at least 7 days prior to vessel arrival\\r\\n• Required documentation: \\r\\no Dangerous Goods Declaration (in Russian and English) o Safety Data Sheet (SDS) in Russian and English\\r\\n• Proper UN packaging and labeling mandatory\\r\\n2.3 Temperature-Controlled Cargo (Reefer)\\r\\n• Temperature settings must be clearly specified on booking and B/L\\r\\n• Pre-trip inspection (PTI) certificates required for all reefer shipments\\r\\n• Gensets may be required for inland transportation\\r\\n2.4 Fumigation Requirements\\r\\n• All wooden packaging materials must comply with ISPM 15 regulations\\r\\n• Fumigation certificates must be provided for applicable cargoes\\r\\n3. Customs and Regulatory Compliance\\r\\n3.1 Import Declaration\\r\\n• Import declaration must be filed through the Russian Customs Electronic Declaration \\r\\nSystem\\r\\n• Advance manifest information required at least 24 hours before vessel arrival\\r\\n3.2 Customs Clearance\\r\\n• Customs clearance must be handled by a licensed customs broker in Russia\\r\\n• Required documents: o Commercial Invoice\\r\\no Packing List\\r\\no Bill of Lading\\r\\no Import License (if applicable)\\r\\no Certificate of Origin\\r\\no Conformity Certificate (if applicable)\\r\\n3.3 Restricted and Prohibited Items\\r\\n• Certain items may be restricted or prohibited for import into Russia\\r\\n• Special permits or licenses may be required for restricted items\\r\\n• Examples of restricted items:'),\n",
       " Document(metadata={'source_type': 'normal_text'}, page_content='• Advance manifest information required at least 24 hours before vessel arrival\\r\\n3.2 Customs Clearance\\r\\n• Customs clearance can be handled by the importer or a licensed customs broker\\r\\n• Required documents: \\r\\no Commercial Invoice\\r\\no Packing List\\r\\no Bill of Lading\\r\\no Import License (if applicable)\\r\\no Certificate of Origin (if applicable)\\r\\n3.3 Restricted and Prohibited Items\\r\\n• Certain items may be restricted or prohibited for import into South Korea\\r\\n• Special permits or licenses may be required for restricted items\\r\\n• Examples of restricted items: \\r\\no Firearms and explosives\\r\\no Narcotics and psychotropic substances\\r\\no Certain agricultural and livestock products\\r\\no Some telecommunications equipment\\r\\n3.4 Phytosanitary and Veterinary Requirements\\r\\n• Agricultural products may require phytosanitary certificates\\r\\n• Animal products may require veterinary health certificates\\r\\n4. Financial Policies\\r\\n4.1 Payment Terms\\r\\n• Both prepaid and collect shipments accepted\\r\\n• Sea freight & associated charges, origin local charges must be prepaid for Reefer imports \\r\\nunless pre-approved by Korea office\\r\\n• For all import shipments to Korea, RLB, ADD, DLF must follow SEA freight terms\\r\\n4.2 Demurrage and Detention\\r\\n• Free time for import cargo: 3 calendar days from discharge\\r\\n• Free time for export cargo: 3 calendar days before vessel ETD\\r\\n• Demurrage charges after free time (per day):'),\n",
       " Document(metadata={'source_type': 'normal_text'}, page_content='\\uf0d1 CHERRY Shipping Line: Republic of Korea (South Korea) -\\r\\nRequirements and Restrictions\\r\\nCHERRY Shipping Line: Republic of Korea (South Korea) Requirements and Restrictions\\r\\n1. Documentation Requirements\\r\\n1.1 Bill of Lading (B/L) Types\\r\\n• Original Bill of Lading (OBL) • Sea Waybill (SWB)\\r\\n• Electronic Bill of Lading (e-B/L) available upon request\\r\\n1.2 Shipper Details\\r\\n• Full name and complete address required')]"
      ]
     },
     "execution_count": 28,
     "metadata": {},
     "output_type": "execute_result"
    }
   ],
   "source": [
    "# 검색기에 쿼리를 날려 검색된 chunk 결과를 확인합니다.\n",
    "retriever.invoke(\"러시아로 가는 배의 필수정보는 무엇인가?\")"
   ]
  },
  {
   "cell_type": "code",
   "execution_count": 29,
   "id": "6959a3be",
   "metadata": {},
   "outputs": [
    {
     "data": {
      "text/plain": [
       "[{'_id': ObjectId('66e1562f0abd52a6a79a3250'),\n",
       "  'bookingReference': 'CHERRY20240911091202',\n",
       "  'voyageDetails': {'vesselName': 'ARONIA 3',\n",
       "   'voyageNumber': '2024041',\n",
       "   'bound': 'E'},\n",
       "  'routeDetails': {'placeOfReceipt': 'BUSAN, KOREA',\n",
       "   'portOfLoading': 'BUSAN, KOREA',\n",
       "   'portOfDischarge': 'VLADIVOSTOK, RUSSIA',\n",
       "   'placeOfDelivery': 'VLADIVOSTOK, RUSSIA',\n",
       "   'finalDestination': ''},\n",
       "  'paymentDetails': {'freightPaymentTerms': 'PREPAID',\n",
       "   'freightPayableAt': 'BUSAN, KOREA'},\n",
       "  'documentationDetails': {'blType': 'SURRENDER',\n",
       "   'numberOfOriginalBLs': 0,\n",
       "   'numberOfCopies': 0},\n",
       "  'partyDetails': {'shipper': {'name': 'LX PANTOS CO., LTD.',\n",
       "    'onBehalfOf': 'LG H&H CO., LTD',\n",
       "    'address': 'LG GWANGHWAMOON BUILDING, 92 SINMUNNO 2-GA, JONGNO-GU, SEOUL 03184, SOUTH KOREA',\n",
       "    'telephone': '+82-2-3500-0001',\n",
       "    'fax': '+82-2-3500-1000'},\n",
       "   'consignee': {'name': 'LLC IC GA GROUP',\n",
       "    'address': '62 SACCO AND VANZETTI STR. OFFICE 703, 620014,, EKATERINBURG RUSSIA',\n",
       "    'companyNumber': '1126761020035'},\n",
       "   'notifyParty': {'name': 'CJSC FM LOGISTICS CUSTOMS',\n",
       "    'address': 'PAVELTSEVO DISTRICT NOVOE SHOSSE 34 BUILDING 4141720 DOLGOPRUDNIY RUSSIA'}},\n",
       "  'shippingTerm': 'CY / CY',\n",
       "  'hsCode': '330420',\n",
       "  'commodityDescription': 'COSMETICS',\n",
       "  'containers': [{'containerNumber': 'CRLU9908625',\n",
       "    'sealNumber': '892083',\n",
       "    'marksAndNumbers': 'NO MARK',\n",
       "    'numberOfPackages': 10,\n",
       "    'packageType': 'PALLETS',\n",
       "    'cargoDescription': \"SHIPPER'S LOAD, COUNT & WEIGHT, SOTW & SEAL SAID TO CONTAIN: COSMETICS\",\n",
       "    'grossWeight': 4829.0,\n",
       "    'measurement': 12.0,\n",
       "    'additionalInfo': 'COC : THE GROSS WEIGHT WITHOUT THE CONTAINER WEIGHT. THE CONTAINER IS PROPERTY OF CHERRY.'}],\n",
       "  'totalShipment': {'totalContainers': 'ONE (45HG X1) CONTAINER ONLY',\n",
       "   'totalPackages': 10,\n",
       "   'packageType': 'PALLETS',\n",
       "   'containerType': '45RHX1',\n",
       "   'totalGrossWeight': 4829.0,\n",
       "   'totalMeasurement': 12.0},\n",
       "  'reeferSettings': {'containerNumber': 'CRLU9908625',\n",
       "   'temperature': '+5.0ºC',\n",
       "   'minTemperature': '+2.0°C',\n",
       "   'maxTemperature': '+7.0°C',\n",
       "   'ventilation': 'Closed',\n",
       "   'humidity': '50% ~ 60%'},\n",
       "  'additionalInformation': {'lcDetails': {'lcNumber': '0000101033738'},\n",
       "   'certificateDetails': ['4112720070177X', '4112720070178X'],\n",
       "   'originalBLDistribution': {'name': 'LX PANTOS CO., LTD.',\n",
       "    'address': 'SAEMUNAN-RO 58, JONGNO-GU, SEOUL 03184, SOUTH KOREA',\n",
       "    'telephone': '+82-2-3700-2110',\n",
       "    'fax': '+82-2-3700-2000'},\n",
       "   'originalInvoiceDistribution': {'name': 'LX PANTOS JAPAN INC.',\n",
       "    'address': '25F TOKYO SANKEI BUILDING, 1-7-2, OTEMACHI, CHIYODA-KU, TKY 100-0004, JAPAN',\n",
       "    'telephone': '03600061234',\n",
       "    'fax': '81-3-6000-0001'},\n",
       "   'onboardDate': 'OCT. 04. 2024',\n",
       "   'additionalRemarks': 'Reefer Container, Item: COSMETICS, Temperature: +5°C, Value: USD50,000'}}]"
      ]
     },
     "execution_count": 29,
     "metadata": {},
     "output_type": "execute_result"
    }
   ],
   "source": [
    "data = fetch_data_from_mongodb(collection_name, {\"bookingReference\": \"CHERRY20240911091202\"})\n",
    "data"
   ]
  },
  {
   "cell_type": "code",
   "execution_count": 31,
   "id": "770ec482",
   "metadata": {},
   "outputs": [],
   "source": [
    "prompt = \"\"\"\n",
    "You are tasked with verifying Company Compliance based on the provided SI information. \n",
    "The compliance must be validated according to the company policies listed in the provided sources. \n",
    "Your goal is to identify any compliance violations or discrepancies and output them in the following format:\n",
    "\n",
    "- Company Policy -\n",
    "1. [Compliance Issue] (Source [x] page [y])\n",
    "2. [Compliance Issue] (Source [x] page [y])\n",
    "3. [Compliance Issue] (Source [x] page [y])\n",
    "...\n",
    "[Source]\n",
    "Source [x]: [Source Title] Page [y], Chapter [z] [Additional details if necessary, e.g., URL]\n",
    "\n",
    "**SI Information:**\n",
    "{question}\n",
    "\n",
    "**Company Policy Sources:**\n",
    "{context}\n",
    "\"\"\""
   ]
  },
  {
   "cell_type": "code",
   "execution_count": 32,
   "id": "308ce613",
   "metadata": {},
   "outputs": [],
   "source": [
    "# 단계 6: 프롬프트 생성(Create Prompt)\n",
    "# 프롬프트를 생성합니다.\n",
    "prompt = PromptTemplate.from_template(prompt)"
   ]
  },
  {
   "cell_type": "code",
   "execution_count": 33,
   "id": "84ed231e",
   "metadata": {},
   "outputs": [],
   "source": [
    "# 단계 7: 언어모델(LLM) 생성\n",
    "# 모델(LLM) 을 생성합니다.\n",
    "llm = ChatOpenAI(model_name=\"gpt-4o-mini\", temperature=0)"
   ]
  },
  {
   "cell_type": "code",
   "execution_count": 34,
   "id": "3043aa65",
   "metadata": {},
   "outputs": [],
   "source": [
    "# 단계 8: 체인(Chain) 생성\n",
    "chain = (\n",
    "    {\"context\": retriever, \"question\": RunnablePassthrough()}\n",
    "    | prompt\n",
    "    | llm\n",
    "    | StrOutputParser()\n",
    ")"
   ]
  },
  {
   "cell_type": "code",
   "execution_count": 35,
   "id": "ddffa8bc",
   "metadata": {},
   "outputs": [],
   "source": [
    "data = \"\"\"\n",
    "[{'_id': ObjectId('66e1562f0abd52a6a79a3250'),\n",
    "  'bookingReference': 'CHERRY20240911091202',\n",
    "  'voyageDetails': {'vesselName': 'ARONIA 3',\n",
    "   'voyageNumber': '2024041',\n",
    "   'bound': 'E'},\n",
    "  'routeDetails': {'placeOfReceipt': 'BUSAN, KOREA',\n",
    "   'portOfLoading': 'BUSAN, KOREA',\n",
    "   'portOfDischarge': 'VLADIVOSTOK, RUSSIA',\n",
    "   'placeOfDelivery': 'VLADIVOSTOK, RUSSIA',\n",
    "   'finalDestination': ''},\n",
    "  'paymentDetails': {'freightPaymentTerms': 'PREPAID',\n",
    "   'freightPayableAt': 'BUSAN, KOREA'},\n",
    "  'documentationDetails': {'blType': 'SURRENDER',\n",
    "   'numberOfOriginalBLs': 0,\n",
    "   'numberOfCopies': 0},\n",
    "  'partyDetails': {'shipper': {'name': 'LX PANTOS CO., LTD.',\n",
    "    'onBehalfOf': 'LG H&H CO., LTD',\n",
    "    'address': 'LG GWANGHWAMOON BUILDING, 92 SINMUNNO 2-GA, JONGNO-GU, SEOUL 03184, SOUTH KOREA',\n",
    "    'telephone': '+82-2-3500-0001',\n",
    "    'fax': '+82-2-3500-1000'},\n",
    "   'consignee': {'name': 'LLC IC GA GROUP',\n",
    "    'address': '62 SACCO AND VANZETTI STR. OFFICE 703, 620014,, EKATERINBURG RUSSIA',\n",
    "    'companyNumber': '1126761020035'},\n",
    "   'notifyParty': {'name': 'CJSC FM LOGISTICS CUSTOMS',\n",
    "    'address': 'PAVELTSEVO DISTRICT NOVOE SHOSSE 34 BUILDING 4141720 DOLGOPRUDNIY RUSSIA'}},\n",
    "  'shippingTerm': 'CY / CY',\n",
    "  'hsCode': '330420',\n",
    "  'commodityDescription': 'COSMETICS',\n",
    "  'containers': [{'containerNumber': 'CRLU9908625',\n",
    "    'sealNumber': '892083',\n",
    "    'marksAndNumbers': 'NO MARK',\n",
    "    'numberOfPackages': 10,\n",
    "    'packageType': 'PALLETS',\n",
    "    'cargoDescription': \"SHIPPER'S LOAD, COUNT & WEIGHT, SOTW & SEAL SAID TO CONTAIN: COSMETICS\",\n",
    "    'grossWeight': 4829.0,\n",
    "    'measurement': 12.0,\n",
    "    'additionalInfo': 'COC : THE GROSS WEIGHT WITHOUT THE CONTAINER WEIGHT. THE CONTAINER IS PROPERTY OF CHERRY.'}],\n",
    "  'totalShipment': {'totalContainers': 'ONE (45HG X1) CONTAINER ONLY',\n",
    "   'totalPackages': 10,\n",
    "   'packageType': 'PALLETS',\n",
    "   'containerType': '45RHX1',\n",
    "   'totalGrossWeight': 4829.0,\n",
    "   'totalMeasurement': 12.0},\n",
    "  'reeferSettings': {'containerNumber': 'CRLU9908625',\n",
    "   'temperature': '+5.0ºC',\n",
    "   'minTemperature': '+2.0°C',\n",
    "   'maxTemperature': '+7.0°C',\n",
    "   'ventilation': 'Closed',\n",
    "   'humidity': '50% ~ 60%'},\n",
    "  'additionalInformation': {'lcDetails': {'lcNumber': '0000101033738'},\n",
    "   'certificateDetails': ['4112720070177X', '4112720070178X'],\n",
    "   'originalBLDistribution': {'name': 'LX PANTOS CO., LTD.',\n",
    "    'address': 'SAEMUNAN-RO 58, JONGNO-GU, SEOUL 03184, SOUTH KOREA',\n",
    "    'telephone': '+82-2-3700-2110',\n",
    "    'fax': '+82-2-3700-2000'},\n",
    "   'originalInvoiceDistribution': {'name': 'LX PANTOS JAPAN INC.',\n",
    "    'address': '25F TOKYO SANKEI BUILDING, 1-7-2, OTEMACHI, CHIYODA-KU, TKY 100-0004, JAPAN',\n",
    "    'telephone': '03600061234',\n",
    "    'fax': '81-3-6000-0001'},\n",
    "   'onboardDate': 'OCT. 04. 2024',\n",
    "   'additionalRemarks': 'Reefer Container, Item: COSMETICS, Temperature: +5°C, Value: USD50,000'}}]\n",
    "\"\"\""
   ]
  },
  {
   "cell_type": "code",
   "execution_count": 38,
   "id": "1e0cb380",
   "metadata": {},
   "outputs": [],
   "source": [
    "data = \"\"\"\n",
    "### **Booking Reference & Voyage Details**\n",
    "- **Booking Reference**: CHERRY20240911091202\n",
    "- **Vessel Name**: ARONIA 3\n",
    "- **Voyage Number**: 2024041\n",
    "- **Bound**: East (E)\n",
    "\n",
    "### **Route Details**\n",
    "- **Place of Receipt**: Busan, Korea\n",
    "- **Port of Loading**: Busan, Korea\n",
    "- **Port of Discharge**: Vladivostok, Russia\n",
    "- **Place of Delivery**: Vladivostok, Russia\n",
    "\n",
    "### **Payment Details**\n",
    "- **Freight Payment Terms**: Prepaid\n",
    "- **Freight Payable At**: Busan, Korea\n",
    "\n",
    "### **Documentation Details**\n",
    "- **BL Type**: Surrender\n",
    "- **Number of Original BLs**: 0\n",
    "- **Number of Copies**: 0\n",
    "\n",
    "### **Party Details**\n",
    "- **Shipper**: LX PANTOS CO., LTD. (on behalf of LG H&H CO., LTD.)\n",
    "- **Consignee**: LLC IC GA GROUP (Russia)\n",
    "- **Notify Party**: CJSC FM LOGISTICS CUSTOMS (Russia)\n",
    "\n",
    "### **Shipping Term**\n",
    "- **CY / CY**: Container Yard to Container Yard\n",
    "\n",
    "### **Commodity & HS Code**\n",
    "- **HS Code**: 330420 (Cosmetics)\n",
    "- **Commodity Description**: Cosmetics\n",
    "\n",
    "### **Container Details**\n",
    "- **Container Number**: CRLU9908625\n",
    "- **Seal Number**: 892083\n",
    "- **Marks & Numbers**: No mark\n",
    "- **Number of Packages**: 10\n",
    "- **Package Type**: Pallets\n",
    "- **Cargo Description**: \"Shipper's Load, Count & Weight, SOTW & Seal Said to Contain: Cosmetics\"\n",
    "- **Gross Weight**: 4829.0 kg\n",
    "- **Measurement**: 12.0 CBM\n",
    "\n",
    "### **Total Shipment**\n",
    "- **Total Containers**: ONE (45HG X1) Container Only\n",
    "- **Total Packages**: 10 Pallets\n",
    "- **Total Gross Weight**: 4829.0 kg\n",
    "- **Total Measurement**: 12.0 CBM\n",
    "- **Container Type**: 45RHX1\n",
    "\n",
    "### **Reefer Settings**\n",
    "- **Container Number**: CRLU9908625\n",
    "- **Temperature**: +5.0ºC\n",
    "- **Min Temperature**: +2.0°C\n",
    "- **Max Temperature**: +7.0°C\n",
    "- **Ventilation**: Closed\n",
    "- **Humidity**: 50% ~ 60%\n",
    "\n",
    "### **Additional Information**\n",
    "- **LC Number**: 0000101033738\n",
    "- **Certificates**: 4112720070177X, 4112720070178X\n",
    "- **Original BL Distribution**: LX PANTOS CO., LTD.\n",
    "- **Original Invoice Distribution**: LX PANTOS JAPAN INC.\n",
    "- **Onboard Date**: October 4, 2024\n",
    "- **Additional Remarks**: Reefer Container, Cosmetics, Temperature +5°C, Value: USD50,000\n",
    "\n",
    "### **Key Validation Targets**:\n",
    "- **Commodity (HS Code 330420)**: Cross-check for compliance with export/import restrictions.\n",
    "- **Gross Weight & Measurement**: Ensure compliance with one decimal digit policy (e.g., 4829.0 kg and 12.0 CBM).\n",
    "- **Number of Packages**: Validate against total shipment numbers to check for any discrepancies.\n",
    "- **Shipping Documents**: Ensure proper documentation, such as BL Type (Surrender), and check if the number of original BLs is correct.\n",
    "- **Temperature & Reefer Settings**: Verify whether the temperature and other reefer settings match the required conditions for the shipped goods (cosmetics).\n",
    "- **Container Details**: Ensure the container description and cargo details are correctly recorded according to company policies (e.g., no commercial value hidden in descriptions).\n",
    "\n",
    "\"\"\""
   ]
  },
  {
   "cell_type": "code",
   "execution_count": 39,
   "id": "b964fb23",
   "metadata": {},
   "outputs": [
    {
     "name": "stdout",
     "output_type": "stream",
     "text": [
      "- Company Policy -\n",
      "1. **Missing Original Bill of Lading**: The shipment has a BL Type of \"Surrender\" with 0 original BLs, which violates the requirement for an Original Bill of Lading (OBL) to be present for the release of cargo. (Source [1] page [1])\n",
      "2. **Inadequate Cargo Description**: The cargo description includes the phrase \"Said to Contain,\" which is not accepted as per company policy. A detailed and accurate description of goods is mandatory. (Source [1] page [1])\n",
      "3. **Missing Contact Information**: The shipper, consignee, and notify party details do not include mandatory contact information such as phone numbers and email addresses. (Source [1] page [1])\n",
      "4. **HS Code Compliance**: The HS Code 330420 (Cosmetics) must be cross-checked for compliance with export/import restrictions, which is not validated in the provided information. (Source [1] page [1])\n",
      "\n",
      "[Source]\n",
      "Source [1]: CHERRY Shipping Line: Argentina - Requirements and Restrictions Page [1], Chapter 1.1 - Documentation Requirements\n"
     ]
    }
   ],
   "source": [
    "# 체인 실행(Run Chain)\n",
    "# 문서에 대한 질의를 입력하고, 답변을 출력합니다.\n",
    "question = data\n",
    "response = chain.invoke(question)\n",
    "print(response)"
   ]
  },
  {
   "cell_type": "code",
   "execution_count": null,
   "id": "9a437f3b",
   "metadata": {},
   "outputs": [],
   "source": []
  }
 ],
 "metadata": {
  "kernelspec": {
   "display_name": "py-test",
   "language": "python",
   "name": "python3"
  },
  "language_info": {
   "codemirror_mode": {
    "name": "ipython",
    "version": 3
   },
   "file_extension": ".py",
   "mimetype": "text/x-python",
   "name": "python",
   "nbconvert_exporter": "python",
   "pygments_lexer": "ipython3",
   "version": "3.12.5"
  }
 },
 "nbformat": 4,
 "nbformat_minor": 5
}
